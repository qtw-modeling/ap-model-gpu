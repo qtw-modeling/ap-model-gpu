{
 "cells": [
  {
   "cell_type": "code",
   "execution_count": null,
   "metadata": {},
   "outputs": [],
   "source": [
    "# TODO: insert code for launching cpu- and gpu execs"
   ]
  },
  {
   "cell_type": "code",
   "execution_count": 1,
   "metadata": {},
   "outputs": [],
   "source": [
    "import numpy as np\n",
    "import pandas as pd\n",
    "import matplotlib\n",
    "import matplotlib.pyplot as plt\n",
    "\n",
    "\n",
    "figsizeConst = (11.6, 7.)\n",
    "plt.rc('figure', figsize=(11.6, 6.))\n",
    "plt.rc('font', size=20)\n",
    "plt.rc('lines', linewidth=4, linestyle='-', marker='o', markersize=12)\n",
    "\n",
    "#%matplotlib inline\n",
    "\n",
    "#import seaborn as sns\n",
    "#sns.set()"
   ]
  },
  {
   "cell_type": "code",
   "execution_count": 16,
   "metadata": {},
   "outputs": [
    {
     "name": "stdout",
     "output_type": "stream",
     "text": [
      "[ 1024.  4096. 10000. 16384.]\n"
     ]
    },
    {
     "data": {
      "text/html": [
       "<div>\n",
       "<style scoped>\n",
       "    .dataframe tbody tr th:only-of-type {\n",
       "        vertical-align: middle;\n",
       "    }\n",
       "\n",
       "    .dataframe tbody tr th {\n",
       "        vertical-align: top;\n",
       "    }\n",
       "\n",
       "    .dataframe thead th {\n",
       "        text-align: right;\n",
       "    }\n",
       "</style>\n",
       "<table border=\"1\" class=\"dataframe\">\n",
       "  <thead>\n",
       "    <tr style=\"text-align: right;\">\n",
       "      <th></th>\n",
       "      <th>Размерность карты</th>\n",
       "      <th>Общее число клеток</th>\n",
       "      <th>Время расчета CPU</th>\n",
       "      <th>Время расчета GPU</th>\n",
       "      <th>Ускорение</th>\n",
       "    </tr>\n",
       "  </thead>\n",
       "  <tbody>\n",
       "    <tr>\n",
       "      <th>0</th>\n",
       "      <td>32 x 32</td>\n",
       "      <td>1024</td>\n",
       "      <td>1.52</td>\n",
       "      <td>6.34</td>\n",
       "      <td>0.239748</td>\n",
       "    </tr>\n",
       "    <tr>\n",
       "      <th>1</th>\n",
       "      <td>64 x 64</td>\n",
       "      <td>4096</td>\n",
       "      <td>6.20</td>\n",
       "      <td>5.02</td>\n",
       "      <td>1.235060</td>\n",
       "    </tr>\n",
       "    <tr>\n",
       "      <th>2</th>\n",
       "      <td>100 x 100</td>\n",
       "      <td>10000</td>\n",
       "      <td>15.36</td>\n",
       "      <td>6.39</td>\n",
       "      <td>2.403756</td>\n",
       "    </tr>\n",
       "    <tr>\n",
       "      <th>3</th>\n",
       "      <td>128 x 128</td>\n",
       "      <td>16384</td>\n",
       "      <td>25.33</td>\n",
       "      <td>6.29</td>\n",
       "      <td>4.027027</td>\n",
       "    </tr>\n",
       "  </tbody>\n",
       "</table>\n",
       "</div>"
      ],
      "text/plain": [
       "  Размерность карты  Общее число клеток  Время расчета CPU  Время расчета GPU  \\\n",
       "0           32 x 32                1024               1.52               6.34   \n",
       "1           64 x 64                4096               6.20               5.02   \n",
       "2         100 x 100               10000              15.36               6.39   \n",
       "3         128 x 128               16384              25.33               6.29   \n",
       "\n",
       "   Ускорение  \n",
       "0   0.239748  \n",
       "1   1.235060  \n",
       "2   2.403756  \n",
       "3   4.027027  "
      ]
     },
     "execution_count": 16,
     "metadata": {},
     "output_type": "execute_result"
    }
   ],
   "source": [
    "file1 = pd.read_csv('speedups_ap_model.txt', header=0)\n",
    "\n",
    "\n",
    "file1_np = file1.to_numpy()\n",
    "print(file1_np[:, 0]) # loop over rows\n",
    "\n",
    "dims_cell_map = []\n",
    "nums_cells_total = []\n",
    "\n",
    "for i in range(len(file1_np[:, 0])):\n",
    "    x_dim = str(int(np.sqrt(file1_np[i, 0])))\n",
    "    dims_cell_map.append(x_dim + ' x ' + x_dim)\n",
    "    \n",
    "    nums_cells_total.append(int(file1_np[i, 0]))\n",
    "    \n",
    "#print(cell_map_dims) # loop over rows\n",
    "\n",
    "file1.insert(0, 'Размерность карты', dims_cell_map, True)\n",
    "file1.insert(1, 'Общее число клеток', nums_cells_total, True)\n",
    "\n",
    "# deleting column from txt-file, filled with \"ugly\"-repr data\n",
    "#file1.drop([1, 3])\n",
    "del file1['# Число клеток'] #file1.drop(columns=['# Число клеток'])\n",
    "\n",
    "file1_final = file1 #file1.drop(file1.index[[1,3]]) # deleting unused rows #1 and #3\n",
    "\n",
    "#render dataframe as html\n",
    "file1_final.to_html('ap_model_table.html')\n",
    "\n",
    "# pretty display\n",
    "file1_final\n",
    "#file1_final.to_html()"
   ]
  },
  {
   "cell_type": "code",
   "execution_count": 17,
   "metadata": {},
   "outputs": [
    {
     "data": {
      "image/png": "[encoded data removed]",
      "text/plain": [
       "<Figure size 835.2x432 with 1 Axes>"
      ]
     },
     "metadata": {
      "needs_background": "light"
     },
     "output_type": "display_data"
    }
   ],
   "source": [
    "#file1.plot(x='Число сегментов сетки', y='Ускорение', style='-o') # \"standart\" printing X vs Y\n",
    "#file1.plot(x='# Число клеток', y='Ускорение', style='-o') # \"standart\" printing X vs Y\n",
    "plot_bars = file1_final.plot(kind='bar',x='Размерность карты', y='Ускорение', title='Модель Алиева-Панфилова (неоптимизированная)')\n",
    "#file1_final.plot(x='Размерность карты', y='Время расчета GPU', title='Модель Билера-Рейтера (неоптимизированная)')\n",
    "\n",
    "# saving pics to a file\n",
    "plt.xticks(rotation='horizontal')\n",
    "plt.tight_layout()\n",
    "plt.savefig('ap_model_no_opt.pdf')\n",
    "\n",
    "#fig = plot_bars.get_figure()\n",
    "#plt.show()"
   ]
  },
  {
   "cell_type": "code",
   "execution_count": null,
   "metadata": {},
   "outputs": [],
   "source": []
  },
  {
   "cell_type": "code",
   "execution_count": null,
   "metadata": {},
   "outputs": [],
   "source": [
    "# tmp code\n",
    "2**5"
   ]
  },
  {
   "cell_type": "code",
   "execution_count": null,
   "metadata": {},
   "outputs": [],
   "source": []
  }
 ],
 "metadata": {
  "kernelspec": {
   "display_name": "Python 3",
   "language": "python",
   "name": "python3"
  },
  "language_info": {
   "codemirror_mode": {
    "name": "ipython",
    "version": 3
   },
   "file_extension": ".py",
   "mimetype": "text/x-python",
   "name": "python",
   "nbconvert_exporter": "python",
   "pygments_lexer": "ipython3",
   "version": "3.7.6"
  }
 },
 "nbformat": 4,
 "nbformat_minor": 4
}
